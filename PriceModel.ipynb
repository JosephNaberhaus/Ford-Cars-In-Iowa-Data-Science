{
 "cells": [
  {
   "cell_type": "code",
   "execution_count": 39,
   "metadata": {},
   "outputs": [],
   "source": [
    "import pandas as pd\n",
    "from sklearn.neighbors import KNeighborsClassifier\n",
    "from sklearn.model_selection import train_test_split\n",
    "from sklearn.model_selection import train_test_split\n",
    "from sklearn.linear_model import LassoLarsCV\n",
    "from sklearn.linear_model import LogisticRegression\n",
    "from sklearn.linear_model import ElasticNet\n",
    "from sklearn.metrics import mean_squared_error"
   ]
  },
  {
   "cell_type": "code",
   "execution_count": 40,
   "metadata": {},
   "outputs": [
    {
     "name": "stdout",
     "output_type": "stream",
     "text": [
      "<class 'pandas.core.frame.DataFrame'>\n",
      "RangeIndex: 32596 entries, 0 to 32595\n",
      "Data columns (total 19 columns):\n",
      "price             32596 non-null int64\n",
      "miles             32596 non-null int64\n",
      "fuel_type         32596 non-null object\n",
      "exterior_color    32357 non-null object\n",
      "interior_color    28987 non-null object\n",
      "drivetrain        32596 non-null object\n",
      "transmission      32596 non-null object\n",
      "engine            32596 non-null object\n",
      "VIN               32594 non-null object\n",
      "name              32596 non-null object\n",
      "sellerAddress     32596 non-null object\n",
      "id                32596 non-null int64\n",
      "modelName         32596 non-null object\n",
      "diesel            32596 non-null bool\n",
      "turbo             32596 non-null bool\n",
      "hybrid            32596 non-null bool\n",
      "used              32596 non-null bool\n",
      "year              32596 non-null int64\n",
      "make              32596 non-null object\n",
      "dtypes: bool(4), int64(4), object(11)\n",
      "memory usage: 3.9+ MB\n"
     ]
    }
   ],
   "source": [
    "df = pd.read_csv(\"carDataClean.csv\")\n",
    "df.info()"
   ]
  },
  {
   "cell_type": "code",
   "execution_count": 41,
   "metadata": {},
   "outputs": [
    {
     "name": "stdout",
     "output_type": "stream",
     "text": [
      "['FWD' 'RWD' '4WD']\n",
      "['CVT' 'Auto' 'Manual']\n"
     ]
    }
   ],
   "source": [
    "print(df['drivetrain'].unique())\n",
    "print(df['transmission'].unique())"
   ]
  },
  {
   "cell_type": "code",
   "execution_count": 42,
   "metadata": {},
   "outputs": [],
   "source": [
    "# Convert catagorial data into number\n",
    "drivetrain_map = {'FWD' : 0, 'RWD' : 1, '4WD' : 2}\n",
    "drivetrain_numeric = [drivetrain_map[dt] for dt in df['drivetrain']]\n",
    "\n",
    "tranmission_map = {'CVT' : 0, 'Auto': 1, \"Manual\": 2}\n",
    "transmission_numeric = [tranmission_map[tr] for tr in df['transmission']]\n",
    "\n",
    "engine_map = {'V12' : 12, 'V10': 10, 'V8': 8, 'V6': 6, 'V5': 5, 'V4': 4, 'V3': 3}\n",
    "engine_numeric = [engine_map[en] for en in df['engine']]\n",
    "\n",
    "diesel_numeric = [1 if d else 0 for d in df['diesel']]\n",
    "\n",
    "turbo_numeric = [1 if d else 0 for d in df['turbo']]\n",
    "\n",
    "hybrid_numeric = [1 if d else 0 for d in df['hybrid']]\n",
    "\n",
    "model_map = {\n",
    "    \"C-Max Energi\":50243, \"C-Max Hybrid\":49085, \"Crown Victoria\":20906, \"E150\":21050,\n",
    "    \"E250\":26506, \"E350\":26502, \"E350 Super Duty\":26507, \"EcoSport\":36284899,\n",
    "    \"Edge\":21039, \"Escape\":21088, \"Excursion\":21102, \"Expedition\":21104,\n",
    "    \"Expedition EL\":21085, \"Expedition Max\":36324071, \"Explorer\":21105, \"Explorer Sport Trac\":21107,\n",
    "    \"F-150\":21095, \"F-250\":21115, \"F-350\":21097, \"Fiesta\":21146, \"Five Hundred\":21156, \"Flex\":21136,\n",
    "    \"Focus\":21138, \"Focus ST\":48704, \"Freestar\":21169, \"Freestyle\":21144, \"Fusion\":21175, \"Fusion Energi\":53027,\n",
    "    \"Fusion Hybrid\":27661, \"Mustang\":21712, \"Probe\":21752, \"Ranger\":21874, \"Sedan Police Interceptor\":57387,\n",
    "    \"Shelby GT350\":30021281, \"Taurus\":22164, \"Thunderbird\":22263, \"Transit Connect\":28203,\n",
    "    \"Transit-150\":56747, \"Transit-250\":56748, \"Transit-350\":56749, \"Model Unknown\":29629\n",
    "}\n",
    "model_numeric = [model_map[md] for md in df['modelName']]"
   ]
  },
  {
   "cell_type": "code",
   "execution_count": 43,
   "metadata": {},
   "outputs": [],
   "source": [
    "# Build datapoints we \n",
    "X = df.loc[:,['year', 'miles']]\n",
    "X['model'] = model_numeric\n",
    "X['transmission'] = transmission_numeric\n",
    "X['engine'] = engine_numeric\n",
    "X['turbo'] = turbo_numeric\n",
    "X['diesel'] = diesel_numeric\n",
    "X['hybrid'] = hybrid_numeric\n",
    "X['drivetrain'] = drivetrain_numeric\n",
    "Y = df['price']\n",
    "\n",
    "# Train model with 80-20 test split\n",
    "X_Train, X_Test, Y_Train, Y_Test = train_test_split(X, Y, test_size=0.2)\n",
    "lasso_reg = LassoLarsCV(cv=3, max_n_alphas = 10).fit(X_Train, Y_Train)\n",
    "# Pedict Y for each X_Test\n",
    "Y_Pred = lasso_reg.predict(X_Test)"
   ]
  },
  {
   "cell_type": "code",
   "execution_count": 49,
   "metadata": {},
   "outputs": [
    {
     "name": "stdout",
     "output_type": "stream",
     "text": [
      "R^2 Score: 0.7657756977955485\n",
      "Mean Squared Error: 56270956.09071867\n"
     ]
    }
   ],
   "source": [
    "# Find the scores of the regression\n",
    "r2_score = lasso_reg.score(X_Test, Y_Test)\n",
    "ma_error = mean_absolute_error\n",
    "ms_error = mean_squared_error(Y_Test, Y_Pred)\n",
    "\n",
    "print('R^2 Score: ' + str(r2_score))\n",
    "print('Mean Squared Error: ' + str(mean_absolute_error))"
   ]
  },
  {
   "cell_type": "code",
   "execution_count": 15,
   "metadata": {},
   "outputs": [
    {
     "name": "stdout",
     "output_type": "stream",
     "text": [
      "What year?: 2011\n",
      "How many miles?: 100000\n",
      "What model?: Fusion\n",
      "What transmission type (CVT/Auto/Manual?: Auto\n",
      "What engine size (V#)?: V6\n",
      "Does it have a turbo (0:false/1:true)?: 0\n",
      "Is it diesel (0:false/1:true)?: 0\n",
      "Is it hybrid (0:false/1:true)?: 0\n",
      "What drivetrain (FWD/RWD/4WD)?: FWD\n",
      "The predicted price of this car is: 9268.825412868755\n"
     ]
    }
   ],
   "source": [
    "year = float(input('What year?: '))\n",
    "miles = float(input('How many miles?: '))\n",
    "model = float(model_map[input('What model?: ')])\n",
    "trans = float(tranmission_map[input('What transmission type (CVT/Auto/Manual?: ')])\n",
    "engine = float(engine_map[input('What engine size (V#)?: ')])\n",
    "turbo = float(input('Does it have a turbo (0:false/1:true)?: '))\n",
    "diesel = float(input('Is it diesel (0:false/1:true)?: '))\n",
    "hybrid = float(input('Is it hybrid (0:false/1:true)?: '))\n",
    "drivetrain = float(drivetrain_map[input('What drivetrain (FWD/RWD/4WD)?: ')])\n",
    "\n",
    "predicted_price = lasso_reg.predict([[year, miles, model, trans, engine, turbo, diesel, hybrid, drivetrain]])\n",
    "print('The predicted price of this car is: ' + str(predicted_price[0]))"
   ]
  },
  {
   "cell_type": "code",
   "execution_count": null,
   "metadata": {},
   "outputs": [],
   "source": []
  },
  {
   "cell_type": "code",
   "execution_count": null,
   "metadata": {},
   "outputs": [],
   "source": []
  }
 ],
 "metadata": {
  "kernelspec": {
   "display_name": "Python 3",
   "language": "python",
   "name": "python3"
  },
  "language_info": {
   "codemirror_mode": {
    "name": "ipython",
    "version": 3
   },
   "file_extension": ".py",
   "mimetype": "text/x-python",
   "name": "python",
   "nbconvert_exporter": "python",
   "pygments_lexer": "ipython3",
   "version": "3.6.5"
  }
 },
 "nbformat": 4,
 "nbformat_minor": 2
}
