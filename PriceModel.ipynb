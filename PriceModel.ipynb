{
 "cells": [
  {
   "cell_type": "code",
   "execution_count": 15,
   "metadata": {},
   "outputs": [],
   "source": [
    "import pandas as pd\n",
    "import math\n",
    "from sklearn.model_selection import train_test_split\n",
    "from sklearn.model_selection import train_test_split\n",
    "from sklearn.linear_model import LassoLarsCV\n",
    "from sklearn.neighbors import KNeighborsRegressor\n",
    "from sklearn.linear_model import LogisticRegression\n",
    "from sklearn.linear_model import LinearRegression\n",
    "from sklearn.ensemble import RandomForestRegressor\n",
    "from sklearn.linear_model import ElasticNet\n",
    "from sklearn.metrics import mean_squared_error\n",
    "from sklearn.metrics import mean_absolute_error\n",
    "from sklearn import model_selection\n",
    "import matplotlib.pyplot as plt"
   ]
  },
  {
   "cell_type": "code",
   "execution_count": 3,
   "metadata": {},
   "outputs": [
    {
     "name": "stdout",
     "output_type": "stream",
     "text": [
      "<class 'pandas.core.frame.DataFrame'>\n",
      "RangeIndex: 32596 entries, 0 to 32595\n",
      "Data columns (total 19 columns):\n",
      "price             32596 non-null int64\n",
      "miles             32596 non-null int64\n",
      "fuel_type         32596 non-null object\n",
      "exterior_color    32357 non-null object\n",
      "interior_color    28987 non-null object\n",
      "drivetrain        32596 non-null object\n",
      "transmission      32596 non-null object\n",
      "engine            32596 non-null object\n",
      "VIN               32594 non-null object\n",
      "name              32596 non-null object\n",
      "sellerAddress     32596 non-null object\n",
      "id                32596 non-null int64\n",
      "modelName         32596 non-null object\n",
      "diesel            32596 non-null bool\n",
      "turbo             32596 non-null bool\n",
      "hybrid            32596 non-null bool\n",
      "used              32596 non-null bool\n",
      "year              32596 non-null int64\n",
      "make              32596 non-null object\n",
      "dtypes: bool(4), int64(4), object(11)\n",
      "memory usage: 3.9+ MB\n"
     ]
    }
   ],
   "source": [
    "df = pd.read_csv(\"carDataClean.csv\")\n",
    "df.info()"
   ]
  },
  {
   "cell_type": "code",
   "execution_count": 4,
   "metadata": {},
   "outputs": [
    {
     "name": "stdout",
     "output_type": "stream",
     "text": [
      "['FWD' 'RWD' '4WD']\n",
      "['CVT' 'Auto' 'Manual']\n"
     ]
    }
   ],
   "source": [
    "print(df['drivetrain'].unique())\n",
    "print(df['transmission'].unique())"
   ]
  },
  {
   "cell_type": "code",
   "execution_count": 5,
   "metadata": {},
   "outputs": [],
   "source": [
    "# Convert catagorial data into number\n",
    "drivetrain_map = {'FWD' : 0, 'RWD' : 1, '4WD' : 2}\n",
    "drivetrain_numeric = [drivetrain_map[dt] for dt in df['drivetrain']]\n",
    "\n",
    "tranmission_map = {'CVT' : 0, 'Auto': 1, \"Manual\": 2}\n",
    "transmission_numeric = [tranmission_map[tr] for tr in df['transmission']]\n",
    "\n",
    "engine_map = {'V12' : 12, 'V10': 10, 'V8': 8, 'V6': 6, 'V5': 5, 'V4': 4, 'V3': 3}\n",
    "engine_numeric = [engine_map[en] for en in df['engine']]\n",
    "\n",
    "diesel_numeric = [1 if d else 0 for d in df['diesel']]\n",
    "\n",
    "turbo_numeric = [1 if d else 0 for d in df['turbo']]\n",
    "\n",
    "hybrid_numeric = [1 if d else 0 for d in df['hybrid']]\n",
    "\n",
    "model_map = {\n",
    "    \"C-Max Energi\":50243, \"C-Max Hybrid\":49085, \"Crown Victoria\":20906, \"E150\":21050,\n",
    "    \"E250\":26506, \"E350\":26502, \"E350 Super Duty\":26507, \"EcoSport\":36284899,\n",
    "    \"Edge\":21039, \"Escape\":21088, \"Excursion\":21102, \"Expedition\":21104,\n",
    "    \"Expedition EL\":21085, \"Expedition Max\":36324071, \"Explorer\":21105, \"Explorer Sport Trac\":21107,\n",
    "    \"F-150\":21095, \"F-250\":21115, \"F-350\":21097, \"Fiesta\":21146, \"Five Hundred\":21156, \"Flex\":21136,\n",
    "    \"Focus\":21138, \"Focus ST\":48704, \"Freestar\":21169, \"Freestyle\":21144, \"Fusion\":21175, \"Fusion Energi\":53027,\n",
    "    \"Fusion Hybrid\":27661, \"Mustang\":21712, \"Probe\":21752, \"Ranger\":21874, \"Sedan Police Interceptor\":57387,\n",
    "    \"Shelby GT350\":30021281, \"Taurus\":22164, \"Thunderbird\":22263, \"Transit Connect\":28203,\n",
    "    \"Transit-150\":56747, \"Transit-250\":56748, \"Transit-350\":56749, \"Model Unknown\":29629\n",
    "}\n",
    "model_numeric = [model_map[md] for md in df['modelName']]"
   ]
  },
  {
   "cell_type": "code",
   "execution_count": 6,
   "metadata": {},
   "outputs": [],
   "source": [
    "# Build datapoints we \n",
    "X = df.loc[:,['year', 'miles']]\n",
    "X['model'] = model_numeric\n",
    "X['transmission'] = transmission_numeric\n",
    "X['engine'] = engine_numeric\n",
    "X['turbo'] = turbo_numeric\n",
    "X['diesel'] = diesel_numeric\n",
    "X['hybrid'] = hybrid_numeric\n",
    "X['drivetrain'] = drivetrain_numeric\n",
    "Y = df['price']\n",
    "\n",
    "# Create 80-20 test split for training models and testing\n",
    "X_Train, X_Test, Y_Train, Y_Test = train_test_split(X, Y, test_size=0.2)"
   ]
  },
  {
   "cell_type": "code",
   "execution_count": 7,
   "metadata": {},
   "outputs": [
    {
     "name": "stdout",
     "output_type": "stream",
     "text": [
      "KNeighbors regression: R^2 Score: 0.7176371524590852\n",
      "KNeighbors regression: Mean Absolute Error: -6342.060712843767\n",
      "KNeighbors regression: Mean Squared Error: -83479854.47284727\n",
      "KNeighbors regression: Root Mean Squared Error: 9136.73106055154\n"
     ]
    }
   ],
   "source": [
    "# K-Neighbors Regresssion\n",
    "\n",
    "kneighbors_reg = KNeighborsRegressor().fit(X_Train, Y_Train)\n",
    "\n",
    "# Find the scores of the regression\n",
    "kneighbors_r2_score = kneighbors_reg.score(X_Test, Y_Test)\n",
    "kneighbors_ma_error = model_selection.cross_val_score(kneighbors_reg, X_Test, Y_Test, scoring='neg_mean_absolute_error')\n",
    "kneighbors_ms_error = model_selection.cross_val_score(kneighbors_reg, X_Test, Y_Test, scoring='neg_mean_squared_error')\n",
    "\n",
    "print('KNeighbors regression: R^2 Score: ' + str(kneighbors_r2_score))\n",
    "print('KNeighbors regression: Mean Absolute Error: ' + str(kneighbors_ma_error.mean()))\n",
    "print('KNeighbors regression: Mean Squared Error: ' + str(kneighbors_ms_error.mean()))\n",
    "print('KNeighbors regression: Root Mean Squared Error: ' + str(math.sqrt(abs(kneighbors_ms_error.mean()))))"
   ]
  },
  {
   "cell_type": "code",
   "execution_count": 8,
   "metadata": {},
   "outputs": [
    {
     "name": "stdout",
     "output_type": "stream",
     "text": [
      "Lasso regression: R^2 Score: 0.7520189811869492\n",
      "Lasso regression: Mean Absolute Error: -5676.5626716614715\n",
      "Lasso regression: Mean Squared Error: -60458424.03146461\n",
      "Lasso regression: Root Mean Squared Error: 7775.501529256142\n"
     ]
    }
   ],
   "source": [
    "# Lasso Regresssion\n",
    "\n",
    "lasso_reg = LassoLarsCV(cv=3, max_n_alphas = 10).fit(X_Train, Y_Train)\n",
    "\n",
    "# Find the scores of the regression\n",
    "lasso_r2_score = lasso_reg.score(X_Test, Y_Test)\n",
    "lasso_ma_error = model_selection.cross_val_score(lasso_reg, X_Test, Y_Test, scoring='neg_mean_absolute_error')\n",
    "lasso_ms_error = model_selection.cross_val_score(lasso_reg, X_Test, Y_Test, scoring='neg_mean_squared_error')\n",
    "\n",
    "print('Lasso regression: R^2 Score: ' + str(lasso_r2_score))\n",
    "print('Lasso regression: Mean Absolute Error: ' + str(lasso_ma_error.mean()))\n",
    "print('Lasso regression: Mean Squared Error: ' + str(lasso_ms_error.mean()))\n",
    "print('Lasso regression: Root Mean Squared Error: ' + str(math.sqrt(abs(lasso_ms_error.mean()))))"
   ]
  },
  {
   "cell_type": "code",
   "execution_count": 9,
   "metadata": {},
   "outputs": [
    {
     "name": "stdout",
     "output_type": "stream",
     "text": [
      "Random Forest regression: R^2 Score: 0.9015173838721239\n",
      "Random Forest regression: Mean Absolute Error: -3499.423556945198\n",
      "Random Forest regression: Mean Squared Error: -29121786.390800375\n",
      "Random Forest regression: Root Mean Squared Error: 5396.460542874411\n"
     ]
    }
   ],
   "source": [
    "# Random Forest Regresssion\n",
    "\n",
    "rf_reg = RandomForestRegressor().fit(X_Train, Y_Train)\n",
    "\n",
    "# Find the scores of the regression\n",
    "rf_r2_score = rf_reg.score(X_Test, Y_Test)\n",
    "rf_ma_error = model_selection.cross_val_score(rf_reg, X_Test, Y_Test, scoring='neg_mean_absolute_error')\n",
    "rf_ms_error = model_selection.cross_val_score(rf_reg, X_Test, Y_Test, scoring='neg_mean_squared_error')\n",
    "\n",
    "print('Random Forest regression: R^2 Score: ' + str(rf_r2_score))\n",
    "print('Random Forest regression: Mean Absolute Error: ' + str(rf_ma_error.mean()))\n",
    "print('Random Forest regression: Mean Squared Error: ' + str(rf_ms_error.mean()))\n",
    "print('Random Forest regression: Root Mean Squared Error: ' + str(math.sqrt(abs(rf_ms_error.mean()))))"
   ]
  },
  {
   "cell_type": "code",
   "execution_count": 13,
   "metadata": {},
   "outputs": [
    {
     "name": "stdout",
     "output_type": "stream",
     "text": [
      "Linear regression: R^2 Score: 0.752018981186948\n",
      "Linear regression: Mean Absolute Error: -5676.562671661494\n",
      "Linear regression: Mean Squared Error: -5676.562671661494\n",
      "Linear regression: Root Mean Squared Error: 7775.501529256169\n"
     ]
    }
   ],
   "source": [
    "# Linear Regresssion\n",
    "\n",
    "linear_reg = LinearRegression().fit(X_Train, Y_Train)\n",
    "\n",
    "# Find the scores of the regression\n",
    "linear_r2_score = linear_reg.score(X_Test, Y_Test)\n",
    "linear_ma_error = model_selection.cross_val_score(linear_reg, X_Test, Y_Test, scoring='neg_mean_absolute_error')\n",
    "linear_ms_error = model_selection.cross_val_score(linear_reg, X_Test, Y_Test, scoring='neg_mean_squared_error')\n",
    "\n",
    "print('Linear regression: R^2 Score: ' + str(linear_r2_score))\n",
    "print('Linear regression: Mean Absolute Error: ' + str(linear_ma_error.mean()))\n",
    "print('Linear regression: Mean Squared Error: ' + str(linear_ma_error.mean()))\n",
    "print('Linear regression: Root Mean Squared Error: ' + str(math.sqrt(abs(linear_ms_error.mean()))))"
   ]
  },
  {
   "cell_type": "code",
   "execution_count": 45,
   "metadata": {},
   "outputs": [
    {
     "data": {
      "image/png": "[encoded data removed]",
      "text/plain": [
       "<Figure size 432x288 with 1 Axes>"
      ]
     },
     "metadata": {},
     "output_type": "display_data"
    }
   ],
   "source": [
    "r2_scores = [kneighbors_r2_score, lasso_r2_score, rf_r2_score, linear_r2_score]\n",
    "\n",
    "plt.title('R^2 Score of Models')\n",
    "plt.bar(['K-Neighbors', 'Lasso', 'Rand. Forest', 'Linear'], r2_scores, .5, \n",
    "        color='#0066cc', edgecolor=\"#001a33\", linewidth=4, alpha=0.7)\n",
    "plt.show()"
   ]
  },
  {
   "cell_type": "code",
   "execution_count": 44,
   "metadata": {},
   "outputs": [
    {
     "data": {
      "image/png": "[encoded data removed]",
      "text/plain": [
       "<Figure size 432x288 with 1 Axes>"
      ]
     },
     "metadata": {},
     "output_type": "display_data"
    }
   ],
   "source": [
    "r2_scores = [abs(kneighbors_ms_error.mean()), abs(lasso_ms_error.mean()), abs(rf_ms_error.mean()), abs(linear_ms_error.mean())]\n",
    "\n",
    "plt.title('Mean Squared Error of Models')\n",
    "plt.bar(['K-Neighbors', 'Lasso', 'Rand. Forest', 'Linear'], r2_scores, .5, \n",
    "        color='#009900', edgecolor=\"#003300\", linewidth=4, alpha=0.7)\n",
    "plt.show()"
   ]
  },
  {
   "cell_type": "code",
   "execution_count": 43,
   "metadata": {},
   "outputs": [
    {
     "data": {
      "image/png": "[encoded data removed]",
      "text/plain": [
       "<Figure size 432x288 with 1 Axes>"
      ]
     },
     "metadata": {},
     "output_type": "display_data"
    }
   ],
   "source": [
    "r2_scores = [abs(kneighbors_ma_error.mean()), abs(lasso_ma_error.mean()), abs(rf_ma_error.mean()), abs(linear_ma_error.mean())]\n",
    "\n",
    "plt.title('Mean Absolute Error of Models')\n",
    "plt.bar(['K-Neighbors', 'Lasso', 'Rand. Forest', 'Linear'], r2_scores, .5, \n",
    "        color='#ff9933', edgecolor=\"#4d2600\", linewidth=4, alpha=0.7)\n",
    "plt.show()"
   ]
  },
  {
   "cell_type": "code",
   "execution_count": 47,
   "metadata": {},
   "outputs": [
    {
     "name": "stdout",
     "output_type": "stream",
     "text": [
      "What year?: 2011\n",
      "How many miles?: 125000\n",
      "What model?: Fusion\n",
      "What transmission type (CVT/Auto/Manual?: Auto\n",
      "What engine size (V#)?: V6\n",
      "Does it have a turbo (0:false/1:true)?: 0\n",
      "Is it diesel (0:false/1:true)?: 0\n",
      "Is it hybrid (0:false/1:true)?: 0\n",
      "What drivetrain (FWD/RWD/4WD)?: FWD\n",
      "The predicted price of this car is: 8022.5\n"
     ]
    }
   ],
   "source": [
    "year = float(input('What year?: '))\n",
    "miles = float(input('How many miles?: '))\n",
    "model = float(model_map[input('What model?: ')])\n",
    "trans = float(tranmission_map[input('What transmission type (CVT/Auto/Manual?: ')])\n",
    "engine = float(engine_map[input('What engine size (V#)?: ')])\n",
    "turbo = float(input('Does it have a turbo (0:false/1:true)?: '))\n",
    "diesel = float(input('Is it diesel (0:false/1:true)?: '))\n",
    "hybrid = float(input('Is it hybrid (0:false/1:true)?: '))\n",
    "drivetrain = float(drivetrain_map[input('What drivetrain (FWD/RWD/4WD)?: ')])\n",
    "\n",
    "predicted_price = rf_reg.predict([[year, miles, model, trans, engine, turbo, diesel, hybrid, drivetrain]])\n",
    "print('The predicted price of this car is: ' + str(predicted_price[0]))"
   ]
  },
  {
   "cell_type": "code",
   "execution_count": null,
   "metadata": {},
   "outputs": [],
   "source": []
  }
 ],
 "metadata": {
  "kernelspec": {
   "display_name": "Python 3",
   "language": "python",
   "name": "python3"
  },
  "language_info": {
   "codemirror_mode": {
    "name": "ipython",
    "version": 3
   },
   "file_extension": ".py",
   "mimetype": "text/x-python",
   "name": "python",
   "nbconvert_exporter": "python",
   "pygments_lexer": "ipython3",
   "version": "3.6.5"
  }
 },
 "nbformat": 4,
 "nbformat_minor": 2
}
