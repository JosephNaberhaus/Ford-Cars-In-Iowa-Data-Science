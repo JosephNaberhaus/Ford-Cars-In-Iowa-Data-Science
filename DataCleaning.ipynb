{
 "cells": [
  {
   "cell_type": "code",
   "execution_count": 82,
   "metadata": {},
   "outputs": [],
   "source": [
    "import pandas as pd\n",
    "import numpy as np"
   ]
  },
  {
   "cell_type": "code",
   "execution_count": 83,
   "metadata": {},
   "outputs": [
    {
     "name": "stdout",
     "output_type": "stream",
     "text": [
      "<class 'pandas.core.frame.DataFrame'>\n",
      "RangeIndex: 51783 entries, 0 to 51782\n",
      "Data columns (total 13 columns):\n",
      "price             50987 non-null object\n",
      "miles             42301 non-null object\n",
      "fuel_type         51655 non-null object\n",
      "exterior_color    50885 non-null object\n",
      "interior_color    45102 non-null object\n",
      "drivetrain        48653 non-null object\n",
      "transmission      49856 non-null object\n",
      "engine            49340 non-null object\n",
      "VIN               51526 non-null object\n",
      "name              51657 non-null object\n",
      "sellerAddress     51517 non-null object\n",
      "id                51783 non-null int64\n",
      "modelName         51783 non-null object\n",
      "dtypes: int64(1), object(12)\n",
      "memory usage: 5.1+ MB\n"
     ]
    }
   ],
   "source": [
    "# Read the unclean data that was scraped\n",
    "df = pd.read_csv(\"carData.csv\")\n",
    "df.info()"
   ]
  },
  {
   "cell_type": "code",
   "execution_count": 84,
   "metadata": {},
   "outputs": [
    {
     "name": "stdout",
     "output_type": "stream",
     "text": [
      "<class 'pandas.core.frame.DataFrame'>\n",
      "RangeIndex: 39626 entries, 0 to 39625\n",
      "Data columns (total 13 columns):\n",
      "price             39626 non-null object\n",
      "miles             39626 non-null object\n",
      "fuel_type         39626 non-null object\n",
      "exterior_color    39275 non-null object\n",
      "interior_color    35182 non-null object\n",
      "drivetrain        39626 non-null object\n",
      "transmission      39626 non-null object\n",
      "engine            39626 non-null object\n",
      "VIN               39624 non-null object\n",
      "name              39626 non-null object\n",
      "sellerAddress     39626 non-null object\n",
      "id                39626 non-null int64\n",
      "modelName         39626 non-null object\n",
      "dtypes: int64(1), object(12)\n",
      "memory usage: 3.9+ MB\n"
     ]
    }
   ],
   "source": [
    "# Replace empty cells with NaN to prepare for removing rows\n",
    "df['price'].replace('', np.nan, inplace=True)\n",
    "df['miles'].replace('', np.nan, inplace=True)\n",
    "df['sellerAddress'].replace('', np.nan, inplace=True)\n",
    "df['drivetrain'].replace('', np.nan, inplace=True)\n",
    "df['transmission'].replace('', np.nan, inplace=True)\n",
    "df['engine'].replace('', np.nan, inplace=True)\n",
    "\n",
    "# Remove rows with empty entries in columns deemed important\n",
    "df.dropna(subset=['price'], inplace=True)\n",
    "df.dropna(subset=['miles'], inplace=True)\n",
    "df.dropna(subset=['sellerAddress'], inplace=True)\n",
    "df.dropna(subset=['drivetrain'], inplace=True)\n",
    "df.dropna(subset=['transmission'], inplace=True)\n",
    "df.dropna(subset=['engine'], inplace=True)\n",
    "\n",
    "# Reset indexes so info is accurate\n",
    "df.reset_index(drop=True, inplace=True)\n",
    "\n",
    "df.info()"
   ]
  },
  {
   "cell_type": "code",
   "execution_count": 85,
   "metadata": {
    "scrolled": true
   },
   "outputs": [],
   "source": [
    "# Remove unit from \"miles\" column and convert column to number\n",
    "df['miles'] = df['miles'].str.replace(\" miles\", \"\")\n",
    "df['miles'] = df['miles'].str.replace(\",\", \"\")\n",
    "df['miles'] = pd.to_numeric(df['miles'])"
   ]
  },
  {
   "cell_type": "code",
   "execution_count": 86,
   "metadata": {},
   "outputs": [],
   "source": [
    "# Remove unit from \"price\" column and convert column to number\n",
    "df['price'] = df['price'].str.replace(\"$\", \"\")\n",
    "df['price'] = df['price'].str.replace(\",\", \"\")\n",
    "df['price'] = pd.to_numeric(df['price'])"
   ]
  },
  {
   "cell_type": "code",
   "execution_count": 87,
   "metadata": {},
   "outputs": [],
   "source": [
    "# Standardize values in the \"transmission\" column\n",
    "\n",
    "# Start by looking at CVT many CVT columns contain \"Automatic\"\n",
    "df.loc[df['transmission'].str.contains('CVT', case=False), 'transmission'] = 'CVT'\n",
    "df.loc[df['transmission'].str.contains('Variable', case=False), 'transmission'] = 'CVT'\n",
    "\n",
    "# Find automatic variations\n",
    "df.loc[df['transmission'].str.contains('Automatic', case=False), 'transmission']= 'Auto'\n",
    "df.loc[df['transmission'].str.contains('Auto', case=False), 'transmission']= 'Auto'\n",
    "df.loc[df['transmission'].str.strip() == \"A\", 'transmission'] = 'Auto'\n",
    "df.loc[df['transmission'].str.strip() == \"a\", 'transmission'] = 'Auto'\n",
    "df.loc[df['transmission'].str.contains('A/T', case=False), 'transmission'] = 'Auto'\n",
    "df.loc[df['transmission'].str.contains('AT', case=False), 'transmission'] = 'Auto'\n",
    "\n",
    "# Find manual variation assuming all \"#-speed\" that don't specify \"automatic\" are manual\n",
    "df.loc[df['transmission'].str.contains('Manual', case=False), 'transmission']= 'Manual'\n",
    "df.loc[df['transmission'].str.strip() == \"m\", 'transmission'] = 'Manual'\n",
    "df.loc[df['transmission'].str.contains('Speed', case=False), 'transmission']= 'Manual'\n",
    "df.loc[df['transmission'].str.contains('Dual Shift', case=False), 'transmission']= 'Manual'\n",
    "\n",
    "# Now that we've mapped as far as possible remove all rows we couldn't map\n",
    "df = df[df['transmission'].isin(['CVT', 'Auto', 'Manual'])]\n",
    "\n",
    "df.reset_index(drop=True, inplace=True)"
   ]
  },
  {
   "cell_type": "code",
   "execution_count": 88,
   "metadata": {},
   "outputs": [],
   "source": [
    "# Standardize the \"drivetrain column\"\n",
    "\n",
    "# Find variations of front wheel drive\n",
    "df.loc[df['drivetrain'].str.contains('Front', case=False), 'drivetrain'] = 'FWD'\n",
    "df.loc[df['drivetrain'].str.contains('FWD', case=False), 'drivetrain'] = 'FWD'\n",
    "df.loc[df['drivetrain'].str.contains('4x2', case=False), 'drivetrain'] = 'FWD'\n",
    "df.loc[df['drivetrain'].str.contains('2WD', case=False), 'drivetrain'] = 'FWD'\n",
    "\n",
    "# Find variations of 4 wheel drive assuming 4x4 and all wheel are identical\n",
    "df.loc[df['drivetrain'].str.contains('Four', case=False), 'drivetrain'] = '4WD'\n",
    "df.loc[df['drivetrain'].str.contains('4', case=False), 'drivetrain'] = '4WD'\n",
    "df.loc[df['drivetrain'].str.contains('All', case=False), 'drivetrain'] = '4WD'\n",
    "\n",
    "# Find variations of rear wheel drive\n",
    "df.loc[df['drivetrain'].str.contains('RWD', case=False), 'drivetrain'] = 'RWD'\n",
    "df.loc[df['drivetrain'].str.contains('Rear', case=False), 'drivetrain'] = 'RWD'\n",
    "\n",
    "\n",
    "# Now that we've mapped as far as possible remove all rows we couldn't map\n",
    "df = df[df['drivetrain'].isin(['FWD', '4WD', 'RWD'])]\n",
    "\n",
    "df.reset_index(drop=True, inplace=True)"
   ]
  },
  {
   "cell_type": "code",
   "execution_count": 89,
   "metadata": {},
   "outputs": [],
   "source": [
    "df['diesel'] = df['engine'].str.contains('Diesel', case=False)\n",
    "df['turbo'] = df['engine'].str.contains('turbo|super', case=False)\n",
    "df['hybrid'] = df['engine'].str.contains('hybrid', case=False)\n",
    "\n",
    "df.loc[df['engine'].str.contains('12 Cylinder', case=False), 'engine'] = 'V12'\n",
    "\n",
    "df.loc[df['engine'].str.contains('10 Cylinder', case=False), 'engine'] = 'V10'\n",
    "df.loc[df['engine'].str.contains('10 Cyl', case=False), 'engine'] = 'V10'\n",
    "df.loc[df['engine'].str.contains('V10', case=False), 'engine'] = 'V10'\n",
    "df.loc[df['engine'].str.contains('V-10', case=False), 'engine'] = 'V10'\n",
    "\n",
    "df.loc[df['engine'].str.contains('V8', case=False), 'engine'] = 'V8'\n",
    "df.loc[df['engine'].str.contains('8 Cylinder', case=False), 'engine'] = 'V8'\n",
    "df.loc[df['engine'].str.contains('8 Cyl', case=False), 'engine'] = 'V8'\n",
    "df.loc[df['engine'].str.contains('8-Cyl', case=False), 'engine'] = 'V8'\n",
    "df.loc[df['engine'].str.contains('V-8', case=False), 'engine'] = 'V8'\n",
    "\n",
    "df.loc[df['engine'].str.contains('V6', case=False), 'engine'] = 'V6'\n",
    "df.loc[df['engine'].str.contains('V-6', case=False), 'engine'] = 'V6'\n",
    "df.loc[df['engine'].str.contains('I6', case=False), 'engine'] = 'V6'\n",
    "df.loc[df['engine'].str.contains('L6', case=False), 'engine'] = 'V6'\n",
    "df.loc[df['engine'].str.contains('I-6', case=False), 'engine'] = 'V6'\n",
    "df.loc[df['engine'].str.contains('6-Cyl', case=False), 'engine'] = 'V6'\n",
    "df.loc[df['engine'].str.contains('6 Cylinder', case=False), 'engine'] = 'V6'\n",
    "df.loc[df['engine'].str.contains('6 Cyl', case=False), 'engine'] = 'V6'\n",
    "df.loc[df['engine'].str.contains('6Cyl', case=False), 'engine'] = 'V6'\n",
    "\n",
    "df.loc[df['engine'].str.contains('5 Cylinder', case=False), 'engine'] = 'V5'\n",
    "df.loc[df['engine'].str.contains('5 Cyl', case=False), 'engine'] = 'V5'\n",
    "df.loc[df['engine'].str.contains('I5', case=False), 'engine'] = 'V5'\n",
    "\n",
    "df.loc[df['engine'].str.contains('V4', case=False), 'engine'] = 'V4'\n",
    "df.loc[df['engine'].str.contains('4-Cyl', case=False), 'engine'] = 'V4'\n",
    "df.loc[df['engine'].str.contains('4 Cyl', case=False), 'engine'] = 'V4'\n",
    "df.loc[df['engine'].str.contains('4Cyl', case=False), 'engine'] = 'V4'\n",
    "df.loc[df['engine'].str.contains('I4', case=False), 'engine'] = 'V4'\n",
    "df.loc[df['engine'].str.contains('I-4', case=False), 'engine'] = 'V4'\n",
    "df.loc[df['engine'].str.contains('L4', case=False), 'engine'] = 'V4'\n",
    "df.loc[df['engine'].str.contains('V-4', case=False), 'engine'] = 'V4'\n",
    "df.loc[df['engine'].str.contains('2.5L', case=False), 'engine'] = 'V4'\n",
    "df.loc[df['engine'].str.contains('2.0L', case=False), 'engine'] = 'V4'\n",
    "df.loc[df['engine'].str.contains('1.5L', case=False), 'engine'] = 'V4'\n",
    "df.loc[df['engine'].str.contains('4 Cylinder', case=False), 'engine'] = 'V4'\n",
    "\n",
    "df.loc[df['engine'].str.contains('3 Cyl', case=False), 'engine'] = 'V3'\n",
    "df.loc[df['engine'].str.contains('I3', case=False), 'engine'] = 'V3'\n",
    "\n",
    "df = df[df['engine'].isin(['V12', 'V10', 'V8', 'V6', 'V5', 'V4', 'V3'])]\n",
    "\n",
    "df.reset_index(drop=True, inplace=True)"
   ]
  },
  {
   "cell_type": "code",
   "execution_count": 90,
   "metadata": {},
   "outputs": [
    {
     "name": "stdout",
     "output_type": "stream",
     "text": [
      "<class 'pandas.core.frame.DataFrame'>\n",
      "RangeIndex: 33293 entries, 0 to 33292\n",
      "Data columns (total 16 columns):\n",
      "price             33293 non-null int64\n",
      "miles             33293 non-null int64\n",
      "fuel_type         33293 non-null object\n",
      "exterior_color    33030 non-null object\n",
      "interior_color    29629 non-null object\n",
      "drivetrain        33293 non-null object\n",
      "transmission      33293 non-null object\n",
      "engine            33293 non-null object\n",
      "VIN               33291 non-null object\n",
      "name              33293 non-null object\n",
      "sellerAddress     33293 non-null object\n",
      "id                33293 non-null int64\n",
      "modelName         33293 non-null object\n",
      "diesel            33293 non-null bool\n",
      "turbo             33293 non-null bool\n",
      "hybrid            33293 non-null bool\n",
      "dtypes: bool(3), int64(3), object(10)\n",
      "memory usage: 3.4+ MB\n"
     ]
    }
   ],
   "source": [
    "df.info()"
   ]
  },
  {
   "cell_type": "code",
   "execution_count": 91,
   "metadata": {},
   "outputs": [],
   "source": [
    "# Split car name into it's componenets (new/used) year make\n",
    "splitNameDf = df['name'].str.split(' ', expand=True, n=3)\n",
    "df['used'] = splitNameDf[0] != 'New'\n",
    "df['year'] = splitNameDf[1]\n",
    "df['make'] = splitNameDf[2]"
   ]
  },
  {
   "cell_type": "code",
   "execution_count": 92,
   "metadata": {},
   "outputs": [],
   "source": [
    "# Some non Ford mixed in while scraping, remove those\n",
    "df = df[df['make'] == \"Ford\"]"
   ]
  },
  {
   "cell_type": "code",
   "execution_count": 93,
   "metadata": {},
   "outputs": [],
   "source": [
    "df.to_csv(\"carDataClean.csv\", encoding='utf-8', index=False)"
   ]
  }
 ],
 "metadata": {
  "kernelspec": {
   "display_name": "Python 3",
   "language": "python",
   "name": "python3"
  },
  "language_info": {
   "codemirror_mode": {
    "name": "ipython",
    "version": 3
   },
   "file_extension": ".py",
   "mimetype": "text/x-python",
   "name": "python",
   "nbconvert_exporter": "python",
   "pygments_lexer": "ipython3",
   "version": "3.6.5"
  }
 },
 "nbformat": 4,
 "nbformat_minor": 2
}
